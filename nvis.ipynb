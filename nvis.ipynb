{
 "cells": [
  {
   "cell_type": "markdown",
   "id": "f9ecafd7",
   "metadata": {},
   "source": [
    "# Why NVIS antenna configuration?\n",
    "## Properties\n",
    "* easy to setup : no installation on height needed\n",
    "* hard to jam and locate (direction finding) : energy goes straight up\n",
    "* simple and cheap antenna : horizontal dipole\n",
    "* omnidirectional coverage\n",
    "* works well with low power\n",
    "* range limited to a few 100 kms\n",
    "* frequency limited to 2-10MHz, depending on ionospheric conditions\n",
    "    * 4 - 8MHz during day : 40m band\n",
    "    * 2 - 4MHz at night : 80m band\n",
    "* other party should also have NVIS antenna\n",
    "\n",
    "## Frequencies\n",
    "* Must be high enough, otherwise too much D-layer absorption\n",
    "* Must be low enough to be refracted by F-layer.  Maximum frequency is the Ionospheric foF2 critical frequency.\n",
    "* [Space Weather Services - Ionospheric Map](https://www.sws.bom.gov.au/HF_Systems/6/5)\n",
    "* 80m band seems to be the only viable option in western Europe\n",
    "\n",
    "## Setup\n",
    "* Radiation angle (typically 75° for NVIS) increases as active element is lowered (typicallyλ 0.10 to 0.25λ above ground)\n",
    "* Mounting horizontal dipole lower means more ground losses and need for retuning (shortening)\n",
    "\n",
    "## Construction of a 40m-60m-80m dipole\n",
    "### Materials\n",
    "* Wire : \n",
    "    * #AWG20 (0.5mm²) to #AWG26 (0.13mm²) used for mobile installation\n",
    "    * Stranded copper for ease of handling\n",
    "    * For 40m dipole, buy length of 25m\n",
    "* 2 insulators : 2 pieces of FR4, with 3 holes spaced about 15mm apart (works probably better than egg-insulator or dog-bone insulator for stranded wire)\n",
    "\n",
    "## U01 Antenna\n",
    "* [U01 emergency communications Antenna - 80/60/40/20/17/15/10m EFHW](https://dl2man.de/u01-emergency-communications-antenna/)\n",
    "* Sloped EFHW\n",
    "* Uses ferrite core :\n",
    "    * [Amidon FT82-43](https://www.reichelt.com/be/en/ferrite-core-1-29-h-material-43-ami-ft-82-43-p245914.html): ⌀21mm, size core needed for 5W operation\n",
    "    * [Fair-rite 5943001301](https://www.digikey.be/en/products/detail/fair-rite-products-corp/5943001301/8599633): ⌀25.4mm \n",
    "    \n",
    "## Antenna calibration\n",
    "* [Revised - Use of The NanoVNA For Antenna Measurements W5IFQ 7 AUG 2021](https://austinhams.org/wp-content/uploads/2021/08/Use-of-the-NanoVNA-for-Antenna-Measurements-AARC.pdf)\n",
    "\n",
    "## References\n",
    "* [R&S Understanding NVIS](https://www.youtube.com/watch?v=k3IFj_Z5cLM)\n",
    "* [Local Emergency Communications with NVIS - Let's Build an 80m/40m Dipole](https://www.youtube.com/watch?v=yYXVKtu3nwk)\n",
    "* [Receiving WSPR on SDRplay RSPduo Shortwave Antenna Performance Test](https://www.youtube.com/watch?v=8lZds2MTKTI)"
   ]
  }
 ],
 "metadata": {
  "kernelspec": {
   "display_name": "Python 3 (ipykernel)",
   "language": "python",
   "name": "python3"
  },
  "language_info": {
   "codemirror_mode": {
    "name": "ipython",
    "version": 3
   },
   "file_extension": ".py",
   "mimetype": "text/x-python",
   "name": "python",
   "nbconvert_exporter": "python",
   "pygments_lexer": "ipython3",
   "version": "3.10.6"
  }
 },
 "nbformat": 4,
 "nbformat_minor": 5
}
