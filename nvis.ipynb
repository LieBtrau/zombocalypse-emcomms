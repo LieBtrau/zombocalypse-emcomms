{
 "cells": [
  {
   "cell_type": "markdown",
   "id": "f9ecafd7",
   "metadata": {},
   "source": [
    "# Why NVIS antenna configuration?\n",
    "## Properties\n",
    "* easy to setup : no installation on height needed\n",
    "* hard to jam and locate (direction finding) : energy goes straight up\n",
    "* simple and cheap antenna : horizontal dipole\n",
    "* omnidirectional coverage\n",
    "* works well with low power\n",
    "* range limited to a few 100 kms\n",
    "* frequency limited to 2-10MHz, depending on ionospheric conditions\n",
    "    * 4 - 8MHz during day : 40m band\n",
    "    * 2 - 4MHz at night : 80m band\n",
    "* other party should also have NVIS antenna\n",
    "\n",
    "## Frequencies\n",
    "* Must be high enough, otherwise too much D-layer absorption\n",
    "* Must be low enough to be refracted by F-layer.  Maximum frequency is the Ionospheric foF2 critical frequency.\n",
    "* [Space Weather Services - Ionospheric Map](https://www.sws.bom.gov.au/HF_Systems/6/5)\n",
    "* 80m band seems to be the only viable option in western Europe\n",
    "\n",
    "## Setup\n",
    "* Radiation angle (typically 75° for NVIS) increases as active element is lowered (typicallyλ 0.10 to 0.25λ above ground)\n",
    "* Mounting horizontal dipole lower means more ground losses and need for retuning (shortening)\n",
    "\n",
    "## Construction of a 40m-60m-80m dipole\n",
    "### Materials\n",
    "* Wire : \n",
    "    * #AWG20 (0.5mm²) to #AWG26 (0.13mm²) used for mobile installation\n",
    "    * Stranded copper for ease of handling\n",
    "    * For 40m dipole, buy length of 25m\n",
    "* 2 insulators : 2 pieces of FR4, with 3 holes spaced about 15mm apart (works probably better than egg-insulator or dog-bone insulator for stranded wire)\n",
    "\n",
    "## U01 Antenna\n",
    "* Sloped EFHW\n",
    "* Ferrite core :\n",
    "    * [Amidon FT82-43](https://www.reichelt.com/be/en/ferrite-core-1-29-h-material-43-ami-ft-82-43-p245914.html): ⌀21mm, size core needed for 5W operation\n",
    "    * [Fair-rite 5943001301](https://www.digikey.be/en/products/detail/fair-rite-products-corp/5943001301/8599633): ⌀25.4mm \n",
    "* [Unibalun](https://github.com/DG1JAN/UniBalun)\n",
    "\n",
    "## Our own balun design\n",
    "### Calculation : \n",
    "Given parameters:\n",
    "* source impedance = 50ohm\n",
    "* turns ratio = 1:7\n",
    "* Max power = 5W\n",
    "* Frequency range = 3-30MHz"
   ]
  },
  {
   "cell_type": "code",
   "execution_count": 23,
   "id": "bed5420a",
   "metadata": {},
   "outputs": [
    {
     "name": "stdout",
     "output_type": "stream",
     "text": [
      "Minimum required inductance is 1.3262911924324612e-05H\n"
     ]
    }
   ],
   "source": [
    "import math\n",
    "Zin = 50 # [ohm] source impedance\n",
    "fmin = 3e6 # Lowest usable frequency[Hz]\n",
    "turns_ratio = 7\n",
    "Pmax = 5 # [W]\n",
    "\n",
    "# Calculate impedance of primary coil\n",
    "# Impedance of primary winding must be greater than 5x source impedance.\n",
    "Xp_min = 5 * Zin\n",
    "\n",
    "# Calculate inductance of primary coil\n",
    "Lp_min = Xp_min / (2*math.pi*fmin)\n",
    "print(\"Minimum required inductance is \" + str(Lp_min) + \"H\")\n"
   ]
  },
  {
   "cell_type": "markdown",
   "id": "f1fdfa28",
   "metadata": {},
   "source": [
    "### Core materials\n",
    "* [Fair-rite materials](https://www.fair-rite.com/materials/): Inductive Materials : \n",
    " * [#43](https://www.fair-rite.com/43-material-data-sheet/) < 10MHz, permeability is very temperature dependent\n",
    " * [#61](https://www.fair-rite.com/61-material-data-sheet/) < 25MHz, much more stable permeability with respect to temperature.\n",
    " * [#67](https://www.fair-rite.com/67-material-data-sheet/) < 50MHz\n",
    " \n",
    "#### Using a #43-core\n",
    "This core is not suited for this frequency range according to the specs of the core material.  Let's try it anyway because it seems to common in the ham HF-world.\n",
    " \n",
    "#### Using a #61-core\n",
    " * [Amidon FT 82-61  = Fair-rite 5961000601](https://www.digikey.be/en/products/detail/fair-rite-products-corp/5961000601/8594131) : ⌀21mm, #61, €1.69\n",
    " * [Fair-rite 5961001821](https://www.digikey.be/en/products/detail/fair-rite-products-corp/5961001821/15930539) : ⌀23mm, #61, €1.42, ⌀23mm\n",
    " \n",
    "#### Using a #67-core\n",
    "Let's select a 67-core because it matches the required frequency range: [FT87-67](https://www.amidoncorp.com/ft-87-67/). \n",
    "\n",
    "160 windings is too much to wind on such a small FT-67-87 core.  No core has been bought for this frequency range.\n",
    "\n",
    " ### Calculations"
   ]
  },
  {
   "cell_type": "code",
   "execution_count": 24,
   "id": "fdce6846",
   "metadata": {},
   "outputs": [
    {
     "name": "stdout",
     "output_type": "stream",
     "text": [
      "Required number of turns on primary winding: 13.298076013381088\n",
      "Required number of turns on secondary winding: 93.08653209366761\n",
      "Maximum flux density: 0.0034070277986435003T\n",
      "Flux density OK\n"
     ]
    }
   ],
   "source": [
    "# Fair-Rite 5943001301 (#43 material)\n",
    "#Al = 500 # [nH/N²] Inductance factor\n",
    "#Ae = 0.308e-4 # [m²] Effective cross-sectional area\n",
    "#Bmax = 0.22 # [T], from [Fair-rite materials](https://www.fair-rite.com/materials/): Inductive Materials\n",
    "\n",
    "# Fair-Rite 5961001821 (#61 material)\n",
    "Al = 75 # [nH/N²] Inductance factor\n",
    "Ae = 0.262e-4 # [m²] Effictive cross-sectional area\n",
    "Bmax = 0.25 # [T], from [Fair-rite materials](https://www.fair-rite.com/materials/): Inductive Materials\n",
    "\n",
    "#Amidon FT-87-67 (#67 material)\n",
    "#Al = 25 # [nH/N²] Inductance factor\n",
    "#Ae = 0.2612e-4 # [m²] Effective cross-sectional area\n",
    "#Bmax = 0.23 # [T], from [Fair-rite materials](https://www.fair-rite.com/materials/): Inductive Materials\n",
    "\n",
    "# L = Al * N² (see also ARRL §5.7.3)\n",
    "Np = math.sqrt(Lp_min/(Al*1e-9))\n",
    "print(\"Required number of turns on primary winding: \" + str(Np))\n",
    "Ns = Np*turns_ratio\n",
    "print(\"Required number of turns on secondary winding: \" + str(Ns))\n",
    "\n",
    "# Maximum coil voltage\n",
    "Erms = math.sqrt( Pmax * Zin)\n",
    "\n",
    "# Maximum flux density\n",
    "B = Erms / (4.44 * Ae * Np * fmin) # [T]\n",
    "print(\"Maximum flux density: \" + str(B)+\"T\")\n",
    "\n",
    "if B > Bmax:\n",
    "    print(\"Exceeding maximum flux density\")\n",
    "else:\n",
    "    print(\"Flux density OK\")"
   ]
  },
  {
   "cell_type": "markdown",
   "id": "df45adc5",
   "metadata": {},
   "source": [
    "### Winding the core \n",
    "* [Calculating needed wire (add 5cm)](https://mikeyancey.com/hamcalc/toroidcalculator.php)\n",
    "\n",
    "For the 5961001821, the inner diameter is 12.9mm, so for about 100 windings, max. ⌀0.4mm wire can be used, to avoid windings to overlap.\n",
    "\n",
    "### Measurements\n",
    "Measurements are done using a NanoVNA showing the Smith chart.  The inductance value is shown on the left corner of its screen.\n",
    "\n",
    "#### #43 material\n",
    "Really not suited for the 5MHz to 30MHz range.  The inductance reduces drastically and losses rise fast.  Why is this material so popular?  Because only few windings are needed?\n",
    "\n",
    "#### #61 material\n",
    "Not suited for 5-30MHz.  For 13 windings, the inductance at 3MHz is 13.9µH while it even rises to 23µH at 30MHz.  This matches the µ'-curve of the material permeability versus frequency of the [#61 material datasheet](https://www.fair-rite.com/61-material-data-sheet/).\n",
    "\n",
    "\n",
    "## Antenna calibration\n",
    "* [Revised - Use of The NanoVNA For Antenna Measurements W5IFQ 7 AUG 2021](https://austinhams.org/wp-content/uploads/2021/08/Use-of-the-NanoVNA-for-Antenna-Measurements-AARC.pdf)\n",
    "\n",
    "## References\n",
    "* [R&S Understanding NVIS](https://www.youtube.com/watch?v=k3IFj_Z5cLM)\n",
    "* [Local Emergency Communications with NVIS - Let's Build an 80m/40m Dipole](https://www.youtube.com/watch?v=yYXVKtu3nwk)\n",
    "* ARRL Handbook 2018, §5.7.3 Broadband Ferrite RF Transformers\n",
    "* Secrets of RF Circuit Design, Joseph J. Carr, §4. Winding your own coils\n",
    "* [Antenna building #1 - EFHW Antenna - theory and practice of the broadband transformer : why capacitor needed on 49:1-impedance unun](https://www.youtube.com/watch?v=2-4J8ECkoe4)\n",
    "* [U01 emergency communications Antenna - 80/60/40/20/17/15/10m EFHW](https://dl2man.de/u01-emergency-communications-antenna/)\n",
    "\n",
    "\n",
    "\n",
    "1:1 Balun, e.g. Diamond BU-50\n",
    "\n",
    "[Receiving WSPR on SDRplay RSPduo Shortwave Antenna Performance Test](https://www.youtube.com/watch?v=8lZds2MTKTI)"
   ]
  },
  {
   "cell_type": "code",
   "execution_count": null,
   "id": "39dbfb45",
   "metadata": {},
   "outputs": [],
   "source": []
  }
 ],
 "metadata": {
  "kernelspec": {
   "display_name": "Python 3 (ipykernel)",
   "language": "python",
   "name": "python3"
  },
  "language_info": {
   "codemirror_mode": {
    "name": "ipython",
    "version": 3
   },
   "file_extension": ".py",
   "mimetype": "text/x-python",
   "name": "python",
   "nbconvert_exporter": "python",
   "pygments_lexer": "ipython3",
   "version": "3.10.6"
  }
 },
 "nbformat": 4,
 "nbformat_minor": 5
}
