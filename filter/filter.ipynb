{
 "cells": [
  {
   "attachments": {},
   "cell_type": "markdown",
   "metadata": {},
   "source": [
    "# Legal requirements\n",
    "* FCC 97.307d. : 43dB below fundamental frequency\n",
    "* [ETSI EN 300 433-1 V1.3.1 (2011-07), §7.5.3](https://www.etsi.org/deliver/etsi_en/300400_300499/30043301/01.03.01_60/en_30043301v010301p.pdf) :\n",
    "  * 47 MHz to 74 MHz, 87,5 MHz to 118 MHz, 174 MHz to 230 MHz, 470 MHz to 862 MHz : -54dBm (446µVrms on 50ohm)\n",
    "  * 30MHz to 1GHz : -36dBm (except for the above mentioned frequencies) : (3.5mVrms on 50ohm)\n",
    "\n",
    "It's very hard to fulfill the ETSI requirements: the emission need to drop from 37dBm at 27MHz to -54dBm at 47MHz.  That's a 90dB drop in less than the fifth of a decade!\n",
    "\n",
    "# ETSI Band pass filter design\n",
    "\n",
    "![Butterworth bpf](./doc/rf-tools_BPF.svg)\n",
    "\n",
    "* Butterworth for maximum flat pass band to reduce losses in the pass band.  A Chebychev filter shows much more losses in the pass band.\n",
    "* 7th order filter: A 6th order Chebychev filter gives the same stop band attenuation, but the pass band shows a lot of irregular attenuation.\n",
    "* Group delay performance is bad.  We're only dealing with slow, narrowband signals so that shouldn't matter much.\n",
    "* Using readily available 10% components.\n",
    "\n",
    "![Butterworth filter characteristic](./doc/bokeh_plot.png)\n",
    "\n",
    "# Implementation\n",
    "\n",
    "The band pass filter will be implemented on a separate section of the PCB.  It should be an option whether or not to connect it in circuit."
   ]
  },
  {
   "cell_type": "code",
   "execution_count": null,
   "metadata": {
    "vscode": {
     "languageId": "plaintext"
    }
   },
   "outputs": [],
   "source": []
  }
 ],
 "metadata": {
  "language_info": {
   "name": "python"
  },
  "orig_nbformat": 4
 },
 "nbformat": 4,
 "nbformat_minor": 2
}
