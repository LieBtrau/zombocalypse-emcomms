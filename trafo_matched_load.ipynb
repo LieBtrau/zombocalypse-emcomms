{
 "cells": [
  {
   "cell_type": "markdown",
   "metadata": {},
   "source": [
    "\n",
    "[Calculate Loss from s11 and s21 – convenient online calculator](https://owenduffy.net/blog/?p=20312)\n",
    "\n",
    "The following load must be connected to port 2 so that port 1 sees a 50Ω load : \n",
    "$$\\mathrm{Z}_{sec} = \\mathrm{Z}_{prim} * \\mathrm{\\left( \\frac{\\mathrm{N}_{sec}}{\\mathrm{N}_{prim}}\\right)}_{}^{2}$$\n",
    "For our transformer:\n",
    "$$\\mathrm{Z}_{sec} = 50\\Omega *  \\mathrm{\\left( \\frac{28}{4}\\right)}_{}^{2} = 2450\\Omega$$\n",
    "So we connect a 2400Ω resistor in series with port 2 to our secondary winding.  As port2 has 50Ω internal impedance, we arrive at the desired 2450Ω.\n",
    "This 2400Ω resistor introduces loss.  This loss can be calculated as:\n",
    "$$Loss = -10*\\mathrm{log}_{10}\\left(\\frac{\\mathrm{Z}_{0}}{\\mathrm{Z}_{0} + Z} \\right)$$\n",
    "or in our case : \n",
    "$$Loss = -10*\\mathrm{log}_{10}\\left(\\frac{50\\Omega}{50\\Omega + 2400\\Omega} \\right) = 16.9dB$$"
   ]
  },
  {
   "cell_type": "code",
   "execution_count": 2,
   "metadata": {},
   "outputs": [
    {
     "name": "stdout",
     "output_type": "stream",
     "text": [
      "Loss = 16.9dB\n",
      "s21 = -28.0dB\n"
     ]
    }
   ],
   "source": [
    "import math\n",
    "Zr = 2400\n",
    "Z0 = 50\n",
    "loss = -10 * math.log10(Z0/(Zr+Z0))\n",
    "print('Loss = {:.3}dB'.format(loss))\n",
    "s21 = 20 * math.log10(2*Z0/(2*Z0+Zr))\n",
    "print('s21 = {:.3}dB'.format(s21))"
   ]
  },
  {
   "cell_type": "markdown",
   "metadata": {},
   "source": [
    "##### Method1\n",
    "We can add this fix 16.9dB offset the measured loss at every frequency.\n",
    "\n",
    "##### Method2\n",
    "We could connect the 2400Ω between port 1 and port2 and measure S11 and S21 over the frequency range.  We can calculate the loss from the measured S11 and S21.\n",
    "$$\\mathrm{s}_{11} = \\frac{\\mathrm{Z}_{in} - \\mathrm{Z}_{0}}{\\mathrm{Z}_{in} + \\mathrm{Z}_{0}} = \\frac{\\left( \\mathrm{Z}_{0} +\\mathrm{Z}_{r}\\right) - \\mathrm{Z}_{0}}{\\left(\\mathrm{Z}_{0}+\\mathrm{Z}_{r}\\right) + \\mathrm{Z}_{0}} = \\frac{50\\Omega+ 2400\\Omega - 50\\Omega}{50\\Omega+ 2400\\Omega + 50\\Omega} = \\frac{2400\\Omega}{2500\\Omega} = 0.96$$\n",
    "$$\\mathrm{s}_{21}=\\frac{2*\\mathrm{Z}_{0}}{2*\\mathrm{Z}_{0} + \\mathrm{Z}_{r}} = \\frac{2*50\\Omega}{2*50\\Omega+2400\\Omega} = 0.04$$\n",
    "$$Loss = 10*\\mathrm{log}_{10}^{}\\left(\\frac{1-\\mathrm{\\left| \\mathrm{s}_{11} \\right|}^{2}}{\\mathrm{\\left| \\mathrm{s}_{21} \\right|}^{2}}\\right) = 10*\\mathrm{log}_{10}^{}\\left(\\frac{1-\\mathrm{0.96 }^{2}}{\\mathrm{0.04}^{2}}\\right) = 16.9dB$$"
   ]
  }
 ],
 "metadata": {
  "kernelspec": {
   "display_name": "Python 3.10.6 64-bit",
   "language": "python",
   "name": "python3"
  },
  "language_info": {
   "codemirror_mode": {
    "name": "ipython",
    "version": 3
   },
   "file_extension": ".py",
   "mimetype": "text/x-python",
   "name": "python",
   "nbconvert_exporter": "python",
   "pygments_lexer": "ipython3",
   "version": "3.10.6"
  },
  "orig_nbformat": 4,
  "vscode": {
   "interpreter": {
    "hash": "31f2aee4e71d21fbe5cf8b01ff0e069b9275f58929596ceb00d14d90e3e16cd6"
   }
  }
 },
 "nbformat": 4,
 "nbformat_minor": 2
}
