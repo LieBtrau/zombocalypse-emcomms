{
 "cells": [
  {
   "cell_type": "markdown",
   "id": "639d7e40",
   "metadata": {},
   "source": [
    "## Our own transformer design\n",
    "The [Unibalun](https://github.com/DG1JAN/UniBalun) can serve as an example to design our own transformer.\n",
    "DL2MAN has done some [measurements on this and similar impedance transformers](https://www.youtube.com/watch?v=nNzTf1F12BE).\n",
    "\n",
    "### Calculation : \n",
    "Given parameters:\n",
    "* source impedance = 50ohm\n",
    "* turns ratio = 1:7 (will result in 1:49 impedance ratio)\n",
    "* Max power = 5W\n",
    "* Frequency range = 3-30MHz"
   ]
  },
  {
   "cell_type": "code",
   "execution_count": 2,
   "id": "ba3577b8",
   "metadata": {},
   "outputs": [
    {
     "name": "stdout",
     "output_type": "stream",
     "text": [
      "Minimum required inductance is 1.33e-05H\n"
     ]
    }
   ],
   "source": [
    "import math\n",
    "Zin = 50 # [ohm] source impedance\n",
    "fmin = 3e6 # Lowest usable frequency[Hz]\n",
    "turns_ratio = 7\n",
    "Pmax = 5 # [W]\n",
    "\n",
    "# Calculate impedance of primary coil\n",
    "# Impedance of primary winding must be greater than 5x source impedance.\n",
    "Xp_min = 5 * Zin\n",
    "\n",
    "# Calculate inductance of primary coil\n",
    "Lp_min = Xp_min / (2*math.pi*fmin)\n",
    "print('Minimum required inductance is {:.3}H'.format(Lp_min))"
   ]
  },
  {
   "cell_type": "markdown",
   "id": "7b0463db",
   "metadata": {},
   "source": [
    "### Core sizes\n",
    "\n",
    "If a core material has been chosen, the inductance is determined by the core geometry : cross-sectional (CSA) area and diameter.\n",
    "The higher the CSA and smaller the diameter, the lesser turns needed to reach a certain inductance value.\n",
    "\n",
    "We generally prefer less turns to reduce losses and for ease of winding.\n",
    "\n",
    "### Core materials\n",
    "[Fair-rite materials](https://www.fair-rite.com/materials/): Inductive Materials : \n",
    " * [#43](https://www.fair-rite.com/43-material-data-sheet/) < 10MHz, permeability is very temperature dependent\n",
    " * [#61](https://www.fair-rite.com/61-material-data-sheet/) < 25MHz, much more stable permeability with respect to temperature.\n",
    " * [SIFERRIT K1](https://www.tdk-electronics.tdk.com/download/528860/ec9323ccb94c129f0da1c855d7963b2d/pdf-k1.pdf) : < 20MHz\n",
    " * [#67](https://www.fair-rite.com/67-material-data-sheet/) < 50MHz\n",
    " \n",
    "#### Using a #43-core\n",
    "This core is not suited for this frequency range according to the specs of the core material.  Let's try it anyway because it seems to be so common in the ham HF-world.\n",
    "\n",
    "* [Fair-Rite 5943001301](https://www.fair-rite.com/product/toroids-5943001301/)\n",
    "  * [Measurement results of stacked core](./Measurement_Results/Fair-Rite_5943001301.ipynb)\n",
    "* Probably the best core for QRP : [Fair-Rite 2643625002](https://www.fair-rite.com/product/round-cable-emi-suppression-cores-2643625002/) : Al = 2910nH/N²\n",
    "   * [Evaluating efficiency, transformer and mismatch losses in toroid transformers - some observations.](https://www.ai6xg.com/post/evaluating-efficiency-transformer-and-mismatch-losses-in-toroid-transformers-some-observations)\n",
    "   * [Small efficient matching transformer for an EFHW](https://owenduffy.net/blog/?p=12642)\n",
    "   * to be tested with 3:21 windings\n",
    "* Alternative cores : \n",
    "   * [Amidon FT-50-43](https://www.amidoncorp.com/ft-50-43/) : to be tested with 3:27 windings\n",
    "   * [Amidon FT-140-43](https://www.amidoncorp.com/ft-140-43/) = [Fair-Rite 2643802702](https://www.fair-rite.com/product/round-cable-emi-suppression-cores-2643802702/)\n",
    "   * [Amidon FT-114-43](https://www.amidoncorp.com/ft-114-43/), as used on [Engineering the EFHW 49:1 Transformer and Antenna](https://squashpractice.com/2021/07/20/engineering-the-efhw-491-transformer-and-antenna/)\n",
    "\n",
    "\n",
    "#### Using a SIFERRIT K1-core\n",
    "[SIFERRIT K1 measurements](./Measurement_Results/SIFERRIT_K1.ipynb)\n",
    " \n",
    "#### Using 4 W 620-core\n",
    " * [WE 7427010](https://www.we-online.com/components/products/datasheet/7427010.pdf)\n",
    " * [Measurements on WE 74270023](./Measurement_Results/WE_74270023.ipynb)\n",
    "\n",
    "#### Using a 3 W 180-core\n",
    " * [WE 7427056](https://www.we-online.com/components/products/datasheet/7427056.pdf)\n",
    " * [Measurements](./Measurement_Results/WE_7427056.ipynb)\n",
    " \n",
    "#### Using a #61-core\n",
    " * [Amidon FT 82-61  = Fair-rite 5961000601](https://www.digikey.be/en/products/detail/fair-rite-products-corp/5961000601/8594131) : ⌀21mm, #61, €1.69\n",
    " * [Fair-rite 5961001821](https://www.digikey.be/en/products/detail/fair-rite-products-corp/5961001821/15930539) : ⌀23mm, #61, €1.42, ⌀23mm\n",
    "\n",
    " [#61-core measurements](./Measurement_Results/type_61_material.ipynb)\n",
    " \n",
    "#### Using a #67-core\n",
    "Let's select a 67-core because it matches the required frequency range: [FT87-67](https://www.amidoncorp.com/ft-87-67/). \n",
    "\n",
    "160 windings is too much to wind on such a small FT-67-87 core.  No core has been bought for this frequency range.\n",
    "\n",
    " ### Calculations\n",
    " * [Miguel VK3CPU - RF Toroid Calculator v1.0](https://miguelvaca.github.io/vk3cpu/toroid.html)- : don't use the wire length calculator from this site as it yields much exxagerated lengths.\n",
    " * [Toroid Winding Calculator](http://www.calculatoredge.com/electronics/coilwinding.htm#toroid)"
   ]
  },
  {
   "cell_type": "code",
   "execution_count": 3,
   "id": "c27229be",
   "metadata": {
    "scrolled": true
   },
   "outputs": [
    {
     "name": "stdout",
     "output_type": "stream",
     "text": [
      "Required number of turns on primary winding: 24\n",
      "Required number of turns on secondary winding: 168\n",
      "The total number of turns doesn't fit on the inductor.\n",
      "Primary coil wire length: 0.52m\n",
      "Secondary coil wire length: 4.22m\n",
      "Maximum flux density: 0.00189T\n",
      "Flux density OK.\n"
     ]
    }
   ],
   "source": [
    "import sys\n",
    "sys.path.insert(0, './Calculations')\n",
    "from calcInductors import *\n",
    "\n",
    "d = 0.5e-3 # [m] wire diameter\n",
    "\n",
    "#Amidon FT-87-67 (#67 material)\n",
    "# Toroid\n",
    "Al = 25 # [nH/N²] Inductance factor\n",
    "Ae = 0.2612e-4 # [m²] Effective cross-sectional area\n",
    "Bmax = 0.23 # [T], from [Fair-rite materials](https://www.fair-rite.com/materials/): Inductive Materials\n",
    "ID = 13.7e-3 # [m], inner diameter\n",
    "OD = 22e-3 # [m], outer diameter\n",
    "h = 6.35e-3 # [m], height\n",
    "  \n",
    "[Np, Ns] = calc_inductor_turns(Al, Lp_min, turns_ratio)\n",
    "print(\"Required number of turns on primary winding: \" + str(Np))\n",
    "print(\"Required number of turns on secondary winding: \" + str(Ns))\n",
    "if Np+Ns < calc_toroid_max_turns(ID, d):\n",
    "    print(\"The total number of turns will fit on the inductor.\")\n",
    "else:\n",
    "    print(\"The total number of turns doesn't fit on the inductor.\")\n",
    "\n",
    "print(\"Primary coil wire length: \" + str(calc_toroid_wirelength(OD, ID, d, h, Np))+\"m\")\n",
    "print(\"Secondary coil wire length: \" + str(calc_toroid_wirelength(OD, ID, d, h, Ns))+\"m\")\n",
    "\n",
    "B = calc_max_flux_density(Ae, Pmax, Zin, fmin, Np)\n",
    "print('Maximum flux density: {:.3}T'.format(B))\n",
    "if B > Bmax:\n",
    "    print(\"Error : Exceeding maximum flux density.\")\n",
    "else:\n",
    "    print(\"Flux density OK.\")\n"
   ]
  },
  {
   "cell_type": "markdown",
   "id": "4eec8eff",
   "metadata": {},
   "source": [
    "## References\n",
    "* ARRL Handbook 2018, §5.7.3 Broadband Ferrite RF Transformers\n",
    "* Secrets of RF Circuit Design, Joseph J. Carr, §4. Winding your own coils\n",
    "* [Steve Dick, K1RF : The end-fed half-wave antenna](http://gnarc.org/wp-content/uploads/The-End-Fed-Half-Wave-Antenna.pdf)\n",
    "* [Performance of 49:1 ferrite core transformers](https://squashpractice.com/2021/06/23/performance-of-491-ferrite-core-transformers/)\n",
    "* [KN5L EFHW Unun](https://www.kn5l.net/kn5lEfhwUnun/)\n",
    "* [Engineering the EFHW 49:1 Transformer and Antenna](https://squashpractice.com/2021/07/20/engineering-the-efhw-491-transformer-and-antenna/)\n",
    "\n",
    "\n",
    "## Ideas for the future\n",
    "We could make a transformer, suitable for EFHW and dipole.  Three coils 1:4:5 coil ratio.\n",
    "* EFHW  = 1 : (4+5) = 1:9\n",
    "* Dipole = (1+4) : 5 = 5:5"
   ]
  }
 ],
 "metadata": {
  "kernelspec": {
   "display_name": "Python 3.10.6 64-bit",
   "language": "python",
   "name": "python3"
  },
  "language_info": {
   "codemirror_mode": {
    "name": "ipython",
    "version": 3
   },
   "file_extension": ".py",
   "mimetype": "text/x-python",
   "name": "python",
   "nbconvert_exporter": "python",
   "pygments_lexer": "ipython3",
   "version": "3.10.6"
  },
  "vscode": {
   "interpreter": {
    "hash": "31f2aee4e71d21fbe5cf8b01ff0e069b9275f58929596ceb00d14d90e3e16cd6"
   }
  }
 },
 "nbformat": 4,
 "nbformat_minor": 5
}
