{
 "cells": [
  {
   "cell_type": "markdown",
   "metadata": {},
   "source": [
    "# Details\n",
    "* [Datasheet](https://fair-rite.com/product/round-cable-emi-suppression-cores-2643625002/)\n",
    "* Mouser : €0.70/pce\n",
    "* Material : Type 43\n",
    "\n",
    "# Reference\n",
    "[The End Fed Halfwave antenna, Steve Dick, K1RF](http://gnarc.org/wp-content/uploads/The-End-Fed-Half-Wave-Antenna.pdf), p.25 suggests:\n",
    "* 3p:21s turns, 100pF capacitor"
   ]
  }
 ],
 "metadata": {
  "language_info": {
   "name": "python"
  },
  "orig_nbformat": 4
 },
 "nbformat": 4,
 "nbformat_minor": 2
}
