{
 "cells": [
  {
   "cell_type": "markdown",
   "metadata": {},
   "source": [
    "# Details\n",
    "* [Datasheet](https://fair-rite.com/product/round-cable-emi-suppression-cores-2643625002/)\n",
    "* Mouser : €0.70/pce\n",
    "* Material : Type 43\n",
    "\n",
    "# Measurements\n",
    "## 1 turn\n",
    "* f = 489.575kHz\n",
    "* Z = 0.144 + 4.27j\n",
    "* L = 1.39µH\n",
    "\n",
    "Unfortunatly, the datasheet doesn't list the Al value for this core.\n",
    "\n",
    "# Construction"
   ]
  },
  {
   "cell_type": "code",
   "execution_count": 3,
   "metadata": {},
   "outputs": [
    {
     "name": "stdout",
     "output_type": "stream",
     "text": [
      "Required number of turns on primary winding: 4\n",
      "Required number of turns on secondary winding: 28\n"
     ]
    }
   ],
   "source": [
    "import sys\n",
    "sys.path.insert(0, '../../Calculations/')\n",
    "from calcInductors import *\n",
    "\n",
    "turns_ratio = 7\n",
    "Pmax = 5 # [W]\n",
    "Zin = 50 #  [Ω]\n",
    "fmin = 3e6 # [Hz]\n",
    "\n",
    "d = 0.5e-3 # [m] wire diameter\n",
    "\n",
    "# Fair-Rite 2643625002 (#43 material)\n",
    "# Toroid\n",
    "Al = 1390 # [nH/N²] Inductance factor (measured above)\n",
    "Ae = 54.8e-6 # [m²] Effective cross-sectional area\n",
    "Bmax = 0.22 # [T], from [Fair-rite materials](https://www.fair-rite.com/materials/): Inductive Materials\n",
    "OD = 15.9e-3 # [m] outer diameter\n",
    "ID = 7.90e-3 # [m] inner diameter\n",
    "h = 14.30e-3 # [m] height\n",
    "Lp_min = 13.5e-6 # [H] minimum required inductance\n",
    "\n",
    "[Np, Ns] = calc_inductor_turns(Al, Lp_min, turns_ratio)\n",
    "print(\"Required number of turns on primary winding: \" + str(Np))\n",
    "print(\"Required number of turns on secondary winding: \" + str(Ns))"
   ]
  },
  {
   "cell_type": "markdown",
   "metadata": {},
   "source": [
    "Although 4:28 is suggested, let's start with 3:21.  The high frequency behaviour will probably be better with a lower turn count."
   ]
  },
  {
   "cell_type": "code",
   "execution_count": 4,
   "metadata": {},
   "outputs": [
    {
     "name": "stdout",
     "output_type": "stream",
     "text": [
      "Primary coil wire length: 0.15m\n",
      "Secondary coil wire length: 1.06m\n",
      "Maximum flux density: 0.00542T\n",
      "Flux density OK.\n"
     ]
    }
   ],
   "source": [
    "print(\"Primary coil wire length: \" + str(calc_toroid_wirelength(OD, ID, d, h, Np))+\"m\")\n",
    "print(\"Secondary coil wire length: \" + str(calc_toroid_wirelength(OD, ID, d, h, Ns))+\"m\")\n",
    "\n",
    "B = calc_max_flux_density(Ae, Pmax, Zin, fmin, Np)\n",
    "print('Maximum flux density: {:.3}T'.format(B))\n",
    "if B > Bmax:\n",
    "    print(\"Error : Exceeding maximum flux density.\")\n",
    "else:\n",
    "    print(\"Flux density OK.\")"
   ]
  },
  {
   "cell_type": "markdown",
   "metadata": {},
   "source": [
    " <img src=\"IMG_20230823_215430_048.jpg\" alt=\"Girl in a jacket\" width=\"500\" > "
   ]
  },
  {
   "cell_type": "markdown",
   "metadata": {},
   "source": [
    "# Reference\n",
    "[The End Fed Halfwave antenna, Steve Dick, K1RF](http://gnarc.org/wp-content/uploads/The-End-Fed-Half-Wave-Antenna.pdf), p.25 suggests:\n",
    "* 3p:21s turns, 100pF capacitor"
   ]
  }
 ],
 "metadata": {
  "kernelspec": {
   "display_name": "Python 3",
   "language": "python",
   "name": "python3"
  },
  "language_info": {
   "codemirror_mode": {
    "name": "ipython",
    "version": 3
   },
   "file_extension": ".py",
   "mimetype": "text/x-python",
   "name": "python",
   "nbconvert_exporter": "python",
   "pygments_lexer": "ipython3",
   "version": "3.10.12"
  },
  "orig_nbformat": 4
 },
 "nbformat": 4,
 "nbformat_minor": 2
}
