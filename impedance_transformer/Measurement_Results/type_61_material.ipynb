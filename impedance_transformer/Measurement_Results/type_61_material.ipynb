{
 "cells": [
  {
   "cell_type": "markdown",
   "metadata": {},
   "source": [
    "# #61 material\n",
    "I didn't succeed in making a transformer that fulfilled the specs using this core.\n",
    "\n",
    "## Primary winding inductance\n",
    "Suitable for 5-30MHz.  For 13 windings, the inductance at 3MHz is 13.9µH while it even rises to 23µH at 30MHz.  This behavior matches the µ'-curve of the material permeability versus frequency of the [#61 material datasheet](https://www.fair-rite.com/61-material-data-sheet/).\n",
    "\n",
    "## Secondary winding inductance\n",
    "The secondary coil has a resonance frequency of around 3MHz.  On such a small core, the windings are very close to each other, resulting in a large capacitive coupling and a low self-resonant frequency.\n",
    "This core is too small for so many windings."
   ]
  },
  {
   "cell_type": "code",
   "execution_count": 5,
   "metadata": {},
   "outputs": [],
   "source": [
    "turns_ratio = 7\n",
    "Pmax = 5 # [W]\n",
    "Zin = 50 #  [Ω]\n",
    "fmin = 3e6 # [Hz]"
   ]
  },
  {
   "cell_type": "code",
   "execution_count": 6,
   "metadata": {},
   "outputs": [
    {
     "name": "stdout",
     "output_type": "stream",
     "text": [
      "Required number of turns on primary winding: 14\n",
      "Required number of turns on secondary winding: 98\n",
      "The total number of turns doesn't fit on the inductor.\n",
      "Primary coil wire length: 0.35m\n",
      "Secondary coil wire length: 2.63m\n",
      "Maximum flux density: 0.00324T\n",
      "Flux density OK.\n"
     ]
    }
   ],
   "source": [
    "from calcInductors import *\n",
    "\n",
    "d = 0.5e-3 # [m] wire diameter\n",
    "Lp_min = 13.5e-6 # [H]\n",
    "\n",
    "# Fair-Rite 5961001821 (#61 material)\n",
    "# Toroid\n",
    "Al = 75 # [nH/N²] Inductance factor\n",
    "Ae = 0.262e-4 # [m²] Effective cross-sectional area\n",
    "Bmax = 0.25 # [T], from [Fair-rite materials](https://www.fair-rite.com/materials/): Inductive Materials\n",
    "OD = 23e-3 # [m] outer diameter\n",
    "ID = 12.9e-3 # [m] inner diameter\n",
    "h = 7.1e-3 # [m] height\n",
    "\n",
    "[Np, Ns] = calc_inductor_turns(Al, Lp_min, turns_ratio)\n",
    "print(\"Required number of turns on primary winding: \" + str(Np))\n",
    "print(\"Required number of turns on secondary winding: \" + str(Ns))\n",
    "if Np+Ns < calc_toroid_max_turns(ID, d):\n",
    "    print(\"The total number of turns will fit on the inductor.\")\n",
    "else:\n",
    "    print(\"The total number of turns doesn't fit on the inductor.\")\n",
    "\n",
    "print(\"Primary coil wire length: \" + str(calc_toroid_wirelength(OD, ID, d, h, Np))+\"m\")\n",
    "print(\"Secondary coil wire length: \" + str(calc_toroid_wirelength(OD, ID, d, h, Ns))+\"m\")\n",
    "\n",
    "B = calc_max_flux_density(Ae, Pmax, Zin, fmin, Np)\n",
    "print('Maximum flux density: {:.3}T'.format(B))\n",
    "if B > Bmax:\n",
    "    print(\"Error : Exceeding maximum flux density.\")\n",
    "else:\n",
    "    print(\"Flux density OK.\")"
   ]
  }
 ],
 "metadata": {
  "kernelspec": {
   "display_name": "Python 3.10.6 64-bit",
   "language": "python",
   "name": "python3"
  },
  "language_info": {
   "codemirror_mode": {
    "name": "ipython",
    "version": 3
   },
   "file_extension": ".py",
   "mimetype": "text/x-python",
   "name": "python",
   "nbconvert_exporter": "python",
   "pygments_lexer": "ipython3",
   "version": "3.10.6"
  },
  "orig_nbformat": 4,
  "vscode": {
   "interpreter": {
    "hash": "31f2aee4e71d21fbe5cf8b01ff0e069b9275f58929596ceb00d14d90e3e16cd6"
   }
  }
 },
 "nbformat": 4,
 "nbformat_minor": 2
}
