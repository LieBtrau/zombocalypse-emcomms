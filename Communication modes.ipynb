{
 "cells": [
  {
   "cell_type": "markdown",
   "id": "e069f91e",
   "metadata": {},
   "source": [
    "# FT8 on 40m\n",
    "According to [Digimode Automatic Propagation Reporter](https://www.pskreporter.info/pskmap.html), FT8 on 40m is still the most popular mode, more popular than WSPR.\n",
    "* Decodes down to SNR -20dB (better than SSB and CW)\n",
    "* 13 chars/15s\n",
    "* Most QSOs only exchange signal reports (call sign, grid square, signal strength)\n",
    "* [FT8 Operating Tips](https://www.physics.princeton.edu/pulsar/K1JT/FT8_Operating_Tips.pdf)\n",
    "\n",
    "# WSPR\n",
    "* [WSPRnet map](https://www.wsprnet.org/drupal/wsprnet/map)\n",
    "* [The $50 Ham: A Simple WSPR Beacon](https://hackaday.com/2021/04/15/the-50-ham-a-simple-wspr-beacon/)"
   ]
  },
  {
   "cell_type": "code",
   "execution_count": null,
   "id": "797609ee",
   "metadata": {},
   "outputs": [],
   "source": []
  }
 ],
 "metadata": {
  "kernelspec": {
   "display_name": "Python 3 (ipykernel)",
   "language": "python",
   "name": "python3"
  },
  "language_info": {
   "codemirror_mode": {
    "name": "ipython",
    "version": 3
   },
   "file_extension": ".py",
   "mimetype": "text/x-python",
   "name": "python",
   "nbconvert_exporter": "python",
   "pygments_lexer": "ipython3",
   "version": "3.10.6"
  }
 },
 "nbformat": 4,
 "nbformat_minor": 5
}
