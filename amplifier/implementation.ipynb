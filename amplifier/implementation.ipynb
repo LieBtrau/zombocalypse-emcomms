{
 "cells": [
  {
   "attachments": {},
   "cell_type": "markdown",
   "metadata": {},
   "source": [
    "# Intro\n",
    "After selecting the topology in [Amplifier Classes](./amplifier.ipynb), it's now time to build it using real components.  This notebook will go through the process of selecting components and building the amplifier.\n",
    "\n",
    "# Transistor selection\n",
    "## Limitations\n",
    "* Transistor input capacitance Cin = Ciss = Cgs + Cgd\n",
    "* Transistor output capacitance Cout = Coss = Cds + Cgd\n",
    "\n",
    "## Comparison\n",
    "### Characteristics\n",
    "IRLML2060TRPBF\n",
    "* 60V, 1.2A\n",
    "* SOT23-3 package can be hand soldered.\n",
    "* Ciss = 64pF\n",
    "* Coss = 13pF\n",
    "* Gate Charge (Qg) (Max) @ Vgs : 0.67 nC @ 4.5 V\n",
    "* tr = 3.8ns, tf = 2.8ns\n",
    "* Needs protection circuitry to handle over voltage when load is short-circuited.\n",
    "\n",
    "IRLML0100TRPbF\n",
    "* 100V, 1.6A\n",
    "* SOT23-3\n",
    "* tr = 2.1ns, tf = 3.6ns \n",
    "* Ciss = 290pF\n",
    "* Coss = 27pF\n",
    "* Qg = 2.5nC\n",
    "\n",
    "#### Performance\n",
    "##### IRLML2060\n",
    "* Gate current = 62mA (5V)\n",
    "* RF-choke current = 346mA (12V)\n",
    "* 50ohm load current = 272mA\n",
    "Input power = 4.46W\n",
    "Output power = 3.7W\n",
    "Efficiency = 83%\n",
    "\n",
    "##### IRLML0100\n",
    "* Gate current = 137mA\n",
    "* RF-choke current = 315mA\n",
    "* 50ohm load current = 255mA\n",
    "Input power = 4.47W\n",
    "Output power = 3.25W\n",
    "Efficiency = 73%\n",
    "\n",
    "## Conclusion\n",
    "The IRLML0100 can handle higher drain voltages, but simulations show that this part will break too when output is short circuited on an unprotected amplifier.  The IRLML0100 is less efficient, so there's little reason to choose this part over the IRLML2060."
   ]
  },
  {
   "attachments": {},
   "cell_type": "markdown",
   "metadata": {},
   "source": [
    "# Capacitor selection : C1 & Cf\n",
    "## Efficiency simulation\n",
    "Vary Cf over a range of capacitance values to see how efficiency changes.  The simulation is done with a 50ohm load and 12V supply.\n",
    "Previous simulations (not shown) indicated that **39pF was a good value for C1**. \n",
    "The simulations indicate that **Cf should be 82pF (more output power) to 100pF (better efficiency)**.\n",
    "\n",
    "![Efficiency schematic](./doc/tmatchnotch_implementation_schem_Cser_efficiency.png)\n",
    "![Efficiency simulation results](./doc/tmatchnotch_implementation_schem_Cser_efficiency_output.png)\n",
    "\n",
    "C1 experiences 40Vpk signals, so it should be rated for 100V.  Cf experiences 49Vpk signals, so it should be rated for 100V.  The simulation shows that the efficiency is highest when Cf is 100pF.\n",
    "\n",
    "## Requirements\n",
    "* Voltage rating: ≥ 100V\n",
    "* For temperature stability, use ceramic capacitors NP0/C0G.\n",
    "* package size: 0603\n",
    "* Tolerance: ± 5%\n",
    "\n",
    "## Part selection\n",
    "* Walsin 0603N390J101CT : 100V, 39pF, ±5%, NP0, 0603\n",
    "* Murata GCM1885C2A390JA16D : 100V, 39pF, ±5%, NP0, 0603"
   ]
  },
  {
   "attachments": {},
   "cell_type": "markdown",
   "metadata": {},
   "source": [
    "# RF-choke selection\n",
    "Inductors will be placed in series to get to the required 10µH.  2x 4.7µH in series or 3x 3.3µH in series.\n",
    "\n",
    "## Requirements\n",
    "* Current rating > 1A\n",
    "* SRF >100MHz\n",
    "* Inductance L > 3µH\n",
    "* package 1210\n",
    "\n",
    "## Part choice\n",
    "* Taiyo Yuden BRL3225T4R7M : 4.7µH\n",
    "* Taiyo Yuden BRL3225T3R3M : 3.3µH\n",
    "* Taiyo Yuden CBC3225T3R3MR : 3.3µH\n",
    "Will put two or three of these in series."
   ]
  },
  {
   "attachments": {},
   "cell_type": "markdown",
   "metadata": {},
   "source": [
    "# Protection\n",
    "\n",
    "Needed in case of open load or shorted load.\n",
    "## MOSFET-overvoltage protection\n",
    "* TVS has too much capacitance.  Varistor and TVS have a too big difference between the breakdown voltage (start of clamping action) and the maximum clamping voltage.  \n",
    "* Varistors : The maximum clamping voltage is about 60% to 100% higher than the breakdown voltage.\n",
    "* TVS-diode : maximum clamping voltage is about 50% higher than the breakdown voltage.  Breakdown voltage is 20% above rated voltage.\n"
   ]
  }
 ],
 "metadata": {
  "kernelspec": {
   "display_name": "Python 3",
   "language": "python",
   "name": "python3"
  },
  "language_info": {
   "name": "python",
   "version": "3.10.6"
  },
  "orig_nbformat": 4
 },
 "nbformat": 4,
 "nbformat_minor": 2
}
