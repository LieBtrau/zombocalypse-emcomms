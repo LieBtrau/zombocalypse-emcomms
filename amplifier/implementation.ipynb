{
 "cells": [
  {
   "attachments": {},
   "cell_type": "markdown",
   "metadata": {},
   "source": [
    "# Transistor selection\n",
    "## Limitations\n",
    "* Transistor input capacitance Cin = Ciss = Cgs + Cgd\n",
    "* Transistor output capacitance Cout = Coss = Cds + Cgd\n",
    "\n",
    "## Output power calculations\n",
    "\n",
    "$$Vout = VDD * \\sqrt{D}$$\n",
    "\n",
    "Where Vout = output voltage, VDD = supply voltage, D = duty cycle.\n",
    "\n",
    "## Comparison\n",
    "### Characteristics\n",
    "IRLML2060TRPBF\n",
    "* 60V, 1.2A\n",
    "* SOT23-3 package can be hand soldered.\n",
    "* Ciss = 64pF\n",
    "* Coss = 13pF\n",
    "* Gate Charge (Qg) (Max) @ Vgs : 0.67 nC @ 4.5 V\n",
    "* tr = 3.8ns, tf = 2.8ns\n",
    "* Needs protection circuitry to handle over voltage when load is short-circuited.\n",
    "\n",
    "IRLML0100TRPbF\n",
    "* 100V, 1.6A\n",
    "* SOT23-3\n",
    "* tr = 2.1ns, tf = 3.6ns \n",
    "* Ciss = 290pF\n",
    "* Coss = 27pF\n",
    "* Qg = 2.5nC\n",
    "\n",
    "#### Performance\n",
    "##### IRLML2060\n",
    "* Gate current = 62mA (5V)\n",
    "* RF-choke current = 346mA (12V)\n",
    "* 50ohm load current = 272mA\n",
    "Input power = 4.46W\n",
    "Output power = 3.7W\n",
    "Efficiency = 83%\n",
    "\n",
    "##### IRLML0100\n",
    "* Gate current = 137mA\n",
    "* RF-choke current = 315mA\n",
    "* 50ohm load current = 255mA\n",
    "Input power = 4.47W\n",
    "Output power = 3.25W\n",
    "Efficiency = 73%\n",
    "\n",
    "## Conclusion\n",
    "The IRLML0100 can handle higher drain voltages, but simulations show that this part will break too when output is short circuited on an unprotected amplifier.  The IRLML0100 is less efficient, so there's little reason to choose this part over the IRLML2060."
   ]
  },
  {
   "attachments": {},
   "cell_type": "markdown",
   "metadata": {},
   "source": [
    "# Part selection\n",
    "\n",
    "## RF-choke\n",
    "1A, SRF>100MHz, L>3µH, package 1210\n",
    "* BRL3225T4R7M, BRL3225T3R3M, CBC3225T3R3MR\n",
    "Will put two or three of these in series.\n",
    "\n",
    "# Protection\n",
    "\n",
    "Needed in case of open load or shorted load.\n",
    "## MOSFET-overvoltage protection\n",
    "* TVS has too much capacitance.  Varistor and TVS have a too big difference between the breakdown voltage (start of clamping action) and the maximum clamping voltage.  \n",
    "* Varistors : The maximum clamping voltage is about 60% to 100% higher than the breakdown voltage.\n",
    "* TVS-diode : maximum clamping voltage is about 50% higher than the breakdown voltage.  Breakdown voltage is 20% above rated voltage.\n"
   ]
  }
 ],
 "metadata": {
  "language_info": {
   "name": "python"
  },
  "orig_nbformat": 4
 },
 "nbformat": 4,
 "nbformat_minor": 2
}
