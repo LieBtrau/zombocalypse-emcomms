{
 "cells": [
  {
   "attachments": {},
   "cell_type": "markdown",
   "metadata": {},
   "source": [
    "# Requirements\n",
    "* Cheap to build\n",
    "    * No toroid winding\n",
    "    * No tuning\n",
    "    * SMD parts keep the assembly cost down\n",
    "* Easy to build (hand soldering)\n",
    "    * No parts smaller than 0603\n",
    "    * No QFN\n",
    "\n",
    "# Frequency band\n",
    "It's allowed for non-hams to transmit in this band.  The allowed power levels are high enough so that a QRP-power amplifier can be built for it.  As the band is near the end of the HF-band, it poses some challenges for the development of this amplifier.  If we can make it work for this frequency band, the lower frequency bands should be a piece of cake.\n",
    "\n",
    "* CB-band, 11m band\n",
    "* 26.965MHz to 27.405MHz, 10kHz channel spacing, 40-channels\n",
    "\n",
    "# Power\n",
    "* AM: 4W erp\n",
    "* SSB : 12W pep\n",
    "\n",
    "# Regulatory\n",
    "\n",
    "* [ETSI EN 300 433 V2.1.1 (2016-05) ](https://www.etsi.org/deliver/etsi_en/300400_300499/300433/02.01.01_60/en_300433v020101p.pdf) : Citizens' Band (CB) radio equipment; Harmonised Standard covering the essential requirements of article 3.2 of the Directive 2014/53/EU\n",
    "* [ETSI EN 300 433-1 V1.3.1 (2011-07)](https://www.etsi.org/deliver/etsi_en/300400_300499/30043301/01.03.01_60/en_30043301v010301p.pdf) : Electromagnetic compatibility and Radio spectrum Matters (ERM); Citizens' Band (CB) radio equipment; Part 1: Technical characteristics and methods of measurement\n",
    "* [ETSI EN 300 433-2 V1.3.1 (2011-07)](https://www.etsi.org/deliver/etsi_en/300400_300499/30043302/01.03.01_60/en_30043302v010301p.pdf) : Electromagnetic compatibility and Radio spectrum Matters (ERM); Citizens' Band (CB) radio quipment; Part 2: Harmonized EN covering the essential requirements of article 3.2 of the R&TTE Directive"
   ]
  }
 ],
 "metadata": {
  "language_info": {
   "name": "python"
  },
  "orig_nbformat": 4
 },
 "nbformat": 4,
 "nbformat_minor": 2
}
