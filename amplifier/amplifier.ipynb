{
 "cells": [
  {
   "attachments": {},
   "cell_type": "markdown",
   "metadata": {},
   "source": [
    "# Amplifier classes\n",
    "* [Linear](https://eng.libretexts.org/Bookshelves/Electrical_Engineering/Electronics/Microwave_and_RF_Design_V%3A_Amplifiers_and_Oscillators_(Steer)/02%3A_Linear_Amplifiers/2.05%3A_Class_A_AB_B_and_C_Amplifiers?readerView) : A, B, C\n",
    "* [Switched mode](https://eng.libretexts.org/Bookshelves/Electrical_Engineering/Electronics/Microwave_and_RF_Design_V%3A_Amplifiers_and_Oscillators_(Steer)/04%3A_Power_Amplifiers/4.03%3A_Switching_Amplifiers_Classes_D_E_and_F?readerView) : D, E, F\n",
    "  * Class D : output capacitance of transistor is a loss element\n",
    "  * **Class E** : output capacitance of transistor used in a tuned circuit, filter odd harmonics away (=loss)\n",
    "  * Class F : improves on class E by adding tuned circuits for the odd harmonics as well.  In practice for QRP-use, the benefit is limited.\n",
    "\n",
    "# Class-E topologies\n",
    "[Scott Howard](https://raw.githubusercontent.com/KD9PDP/Minimalist-Class-E/master/PDF/minimalist_class_e.pdf) has compared Class E-amplifiers.  To have enough rejection of the harmonics, a Pi-match or T-match circuit is needed.  The Pi-match circuit is preferred because it gives more harmonic rejection and uses smaller inductor values.\n",
    "We'll try both topologies to see what's best in our case.\n",
    "\n",
    "# KD9PDP : Class E-amplifier with Pi-match notch filter\n",
    "This topology is also used in the [(tr)uSDX receiver](./doc/truSDX_Main-RF_Boards_with_Notes_v1.0n.pdf).\n",
    "\n",
    "![NM0S topology, image from KD9PDP paper](./doc/NM0S_pimatchnotch.png)"
   ]
  },
  {
   "cell_type": "code",
   "execution_count": 1,
   "metadata": {},
   "outputs": [
    {
     "name": "stdout",
     "output_type": "stream",
     "text": [
      "Q = 4.53\n",
      "Rl = 16.70 Ohm\n",
      "η = 0.96\n",
      "L1 = 0.28 uH\n",
      "C1 = 64.79 pF\n",
      "Cf = 77.90 pF\n",
      "Ltot = 0.56 uH\n",
      "C2 = 539.91 pF\n",
      "L2 = 0.10 uH\n",
      "C4 = 86.75 pF\n",
      "C3 = 353.68 pF\n"
     ]
    }
   ],
   "source": [
    "# Calculations for Pi-match with notch-filter\n",
    "# according to KD9PDP\n",
    "\n",
    "import math\n",
    "\n",
    "# Design parameters\n",
    "VCC = 12.0  # V\n",
    "Pout = 5   # W\n",
    "f = 27e6   # Hz\n",
    "R1 = 50    # Ohm\n",
    "\n",
    "Rl = 0.58 * math.pow(VCC, 2) / Pout  # Ohm, load seen by the MOSFET drain\n",
    "Q = 3 + math.sqrt(Rl/5 - 1)\n",
    "\n",
    "print(\"Q = %.2f\" % Q)\n",
    "print(\"Rl = %.2f Ohm\" % Rl)\n",
    "\n",
    "ω = 2*math.pi*f  # rad/s\n",
    "L1 = 2.84 * Rl / ω          # H, minimum value for L1\n",
    "C1 = 1 / (5.4466 * ω * Rl)  # F\n",
    "Cf = 1 / (Q * ω * Rl)      # F\n",
    "Ltot = (Q + 1.1525) * Rl / ω  # H\n",
    "C2 = (Q-3) / (ω * Rl)         # F\n",
    "L2 = 15 * Q / (4 * ω)       # H\n",
    "C4 = 1 / (15*Q*ω)        # F\n",
    "C3 = 3 / (50*ω)          # F\n",
    "\n",
    "# LTSpice results\n",
    "I_R1 = 0.349  # A\n",
    "I_L1 = 0.531  # A\n",
    "η = math.pow(I_R1,2)* R1 / (VCC*I_L1)\n",
    "print(\"η = %.2f\" % η)\n",
    "\n",
    "print(\"L1 = %.2f uH\" % (L1*1e6))\n",
    "print(\"C1 = %.2f pF\" % (C1*1e12))\n",
    "print(\"Cf = %.2f pF\" % (Cf*1e12))\n",
    "print(\"Ltot = %.2f uH\" % (Ltot*1e6))\n",
    "print(\"C2 = %.2f pF\" % (C2*1e12))\n",
    "print(\"L2 = %.2f uH\" % (L2*1e6))\n",
    "print(\"C4 = %.2f pF\" % (C4*1e12))\n",
    "print(\"C3 = %.2f pF\" % (C3*1e12))\n"
   ]
  },
  {
   "attachments": {},
   "cell_type": "markdown",
   "metadata": {},
   "source": [
    "## Results\n",
    "* I(L1) = 531mArms\n",
    "* I(R1) = 349mArms\n",
    "* I(Ltot) = 608mArms\n",
    "* I(L2) = 1.48Arms\n",
    "* η = 96%\n",
    "* Harmonics:\n",
    "  * 26.866MHz : 21.72dB\n",
    "  * 53.766MHz : -32.05dB\n",
    "  * 80.633MHz : -25.28dB\n",
    "  * 134.4MHz : -27.36dB\n",
    "\n",
    "# Conclusion\n",
    "Very high inductor currents will cause high I²R-losses.  Filter performance is inferior to WA0ITP design.\n",
    "\n",
    "# WA0ITP : Class-E amplifier with Pi-match notch filter\n",
    "Calculation based on [WA0ITP's spreadsheet of the NM0S equations](http://www.wa0itp.com/classeampdesignrevb.xls)\n",
    "![wa0itp pi-match notch design](./doc/WA0ITP_pimatchnotch.png)\n",
    "\n",
    "The RdsOn and Coss have been set to zero to simulate a perfect switch.\n",
    "\n",
    "## Results\n",
    "* I(L1) = 431mArms\n",
    "* I(R1) = 315mArms\n",
    "* I(L2) = 791mArms\n",
    "* I(L3) = 1.07Arms\n",
    "* η = 96%\n",
    "* Harmonics:\n",
    "  * 26.87MHz : 20.86dB\n",
    "  * 53.78MHz : -40.67dB\n",
    "  * 80.63MHz : -49.90dB\n",
    "  * 134.4MHz : -23.47dB"
   ]
  },
  {
   "cell_type": "code",
   "execution_count": 2,
   "metadata": {},
   "outputs": [
    {
     "name": "stdout",
     "output_type": "stream",
     "text": [
      "η = 0.96\n"
     ]
    }
   ],
   "source": [
    "# LTSpice results\n",
    "I_R1 = 0.315  # A\n",
    "I_L1 = 0.431  # A\n",
    "η = math.pow(I_R1,2)* R1 / (VCC*I_L1)\n",
    "print(\"η = %.2f\" % η)"
   ]
  },
  {
   "attachments": {},
   "cell_type": "markdown",
   "metadata": {},
   "source": [
    "# Conclusion\n",
    "Preferable to KD9PDP Pi-match design because of better filtering and lower inductor current.\n",
    "\n",
    "# T-match notch filter\n",
    "![t-match notch design](./doc/tmatchnotch.png)"
   ]
  },
  {
   "cell_type": "code",
   "execution_count": 3,
   "metadata": {},
   "outputs": [
    {
     "name": "stdout",
     "output_type": "stream",
     "text": [
      "L2 = 0.49µH\n",
      "L3 = 0.61µH\n",
      "C2 = 105.49pF\n",
      "C3 = 14.17pF\n",
      "η = 0.95\n"
     ]
    }
   ],
   "source": [
    "# Calculations for T-match with notch-filter according to KD9PDP\n",
    "# Design parameters\n",
    "VCC = 12.0  # V\n",
    "Pout = 5   # W\n",
    "f = 27e6   # Hz\n",
    "Rant = 50    # Ohm\n",
    "Q = 5\n",
    "\n",
    "# Ltot and Cf are equal to the ones calculated for the Pi-match\n",
    "\n",
    "Rl = 0.58 * math.pow(VCC, 2) / Pout  # Ohm, load seen by the MOSFET drain\n",
    "Rv = Rl * (math.pow(Q, 2) + 1) # virtual load of the T-network\n",
    "Q1 = math.sqrt(Rv/Rl - 1) # Q-factor of the T-network, seen from the MOSFET drain\n",
    "Q2 = math.sqrt(Rv/Rant - 1) # Q-factor of the T-network, seen from the antenna\n",
    "\n",
    "ω = 2*math.pi*f  # rad/s\n",
    "L2 = Q1 * Rl / ω  # H\n",
    "L3 = Q2 * Rant / ω  * 3/4 # H\n",
    "C2 = 1 / (Rv * ω) * (Q1+Q2) # F\n",
    "C3 = 1 / (math.pow(2*ω,2) * L3) # F\n",
    "\n",
    "print('L2 = {:.2f}µH'.format(L2*1e6))\n",
    "print('L3 = {:.2f}µH'.format(L3*1e6))\n",
    "print('C2 = {:.2f}pF'.format(C2*1e12))\n",
    "print('C3 = {:.2f}pF'.format(C3*1e12))\n",
    "\n",
    "# LTSpice results\n",
    "I_R1 = 0.328  # A\n",
    "I_L1 = 0.473  # A\n",
    "η = math.pow(I_R1,2)* R1 / (VCC*I_L1)\n",
    "print(\"η = %.2f\" % η)\n"
   ]
  },
  {
   "attachments": {},
   "cell_type": "markdown",
   "metadata": {},
   "source": [
    "## Results\n",
    "![waveforms from voltage over switch and current through switch](./doc/tmatchnotch_waveforms.png)\n",
    "\n",
    "* I(L1) = 473mArms\n",
    "* I(R1) = 328mArms\n",
    "* I(Ltot) = 560mArms\n",
    "* I(L3) = 435mArms\n",
    "* η = 95%\n",
    "* Harmonics:\n",
    "  * 26.87MHz : 21.19dB\n",
    "  * 53.77MHz : -41.19dB\n",
    "  * 80.64MHz : -22.7dB\n",
    "  * 134.4MHz : -29.43dB\n",
    "\n",
    "## Conclusion\n",
    "3rd harmonic suppression isn't great, but for ETSI we need an extra filter anyway.\n",
    "This design has the advantage that it has the lowest inductor currents and the least amount of components."
   ]
  },
  {
   "attachments": {},
   "cell_type": "markdown",
   "metadata": {},
   "source": [
    "# References\n",
    "* [Search for the Minimalist QRP Class E Amplifier Filter Typology, KD9PDP](https://raw.githubusercontent.com/KD9PDP/Minimalist-Class-E/master/PDF/minimalist_class_e.pdf)\n",
    "  * Must read\n",
    "  * Good explanation of different Class-E topologies with calculations\n",
    "* [Class E Amplifier Design Spreadsheet](http://wa0itp.com/class%20e%20design.html)\n",
    "  * Implementation of David Cripe (NM0S) equations.\n",
    "* [Notes on designing Class-E RF power ampliﬁers, George/Bill Slade](https://www.researchgate.net/publication/320623200)\n",
    "  * Implementation of what KD9PDP describes as \"2.1.1 “Power Boost” Class E\".\n",
    "  * Presented design requires high Q BPF (not described) to reduce harmonics enough.\n",
    "* [Class E Amplifiers, Dan Tayloe, N7VE](http://norcalqrp.org/files/Class_E_Amplifiers.pdf)\n",
    "  * protection circuits for open and shorted loads\n",
    "\n",
    "## Other references (less interesting)\n",
    "* [Modeling Class-E RF amplifiers](https://k6jca.blogspot.com/2011/01/modeling-class-ef-rf-power-amplifiers.html)\n",
    "* [An Introduction to the uSDX transceiver kit](https://qrper.com/2020/09/an-introduction-to-the-usdx/)"
   ]
  }
 ],
 "metadata": {
  "kernelspec": {
   "display_name": "Python 3.10.6 64-bit",
   "language": "python",
   "name": "python3"
  },
  "language_info": {
   "codemirror_mode": {
    "name": "ipython",
    "version": 3
   },
   "file_extension": ".py",
   "mimetype": "text/x-python",
   "name": "python",
   "nbconvert_exporter": "python",
   "pygments_lexer": "ipython3",
   "version": "3.10.6"
  },
  "orig_nbformat": 4,
  "vscode": {
   "interpreter": {
    "hash": "31f2aee4e71d21fbe5cf8b01ff0e069b9275f58929596ceb00d14d90e3e16cd6"
   }
  }
 },
 "nbformat": 4,
 "nbformat_minor": 2
}
