{
 "cells": [
  {
   "cell_type": "markdown",
   "id": "639d7e40",
   "metadata": {},
   "source": [
    "## Our own transformer design\n",
    "The [Unibalun](https://github.com/DG1JAN/UniBalun) can serve as an example to design our own transformer.\n",
    "DL2MAN has done some [measurements on this and similar impedance transformers](https://www.youtube.com/watch?v=nNzTf1F12BE).\n",
    "\n",
    "### Calculation : \n",
    "Given parameters:\n",
    "* source impedance = 50ohm\n",
    "* turns ratio = 1:7 (will result in 1:49 impedance ratio)\n",
    "* Max power = 5W\n",
    "* Frequency range = 3-30MHz"
   ]
  },
  {
   "cell_type": "code",
   "execution_count": 23,
   "id": "ba3577b8",
   "metadata": {},
   "outputs": [
    {
     "name": "stdout",
     "output_type": "stream",
     "text": [
      "Minimum required inductance is 1.33e-05H\n"
     ]
    }
   ],
   "source": [
    "import math\n",
    "Zin = 50 # [ohm] source impedance\n",
    "fmin = 3e6 # Lowest usable frequency[Hz]\n",
    "turns_ratio = 7\n",
    "Pmax = 5 # [W]\n",
    "\n",
    "# Calculate impedance of primary coil\n",
    "# Impedance of primary winding must be greater than 5x source impedance.\n",
    "Xp_min = 5 * Zin\n",
    "\n",
    "# Calculate inductance of primary coil\n",
    "Lp_min = Xp_min / (2*math.pi*fmin)\n",
    "print('Minimum required inductance is {:.3}H'.format(Lp_min))"
   ]
  },
  {
   "cell_type": "markdown",
   "id": "7b0463db",
   "metadata": {},
   "source": [
    "### Core materials\n",
    "* [Fair-rite materials](https://www.fair-rite.com/materials/): Inductive Materials : \n",
    " * [#43](https://www.fair-rite.com/43-material-data-sheet/) < 10MHz, permeability is very temperature dependent\n",
    " * [#61](https://www.fair-rite.com/61-material-data-sheet/) < 25MHz, much more stable permeability with respect to temperature.\n",
    " * [SIFERRIT K1](https://www.tdk-electronics.tdk.com/download/528860/ec9323ccb94c129f0da1c855d7963b2d/pdf-k1.pdf) : < 20MHz\n",
    " * [#67](https://www.fair-rite.com/67-material-data-sheet/) < 50MHz\n",
    " \n",
    "#### Using a #43-core\n",
    "This core is not suited for this frequency range according to the specs of the core material.  Let's try it anyway because it seems to be so common in the ham HF-world.\n",
    " * [Fair-Rite 5943001301](https://www.fair-rite.com/product/toroids-5943001301/)\n",
    " * [Fair-Rite 2643625002](https://www.fair-rite.com/product/round-cable-emi-suppression-cores-2643625002/) : Al = 2910nH/n²\n",
    " \n",
    "#### Using a #61-core\n",
    " * [Amidon FT 82-61  = Fair-rite 5961000601](https://www.digikey.be/en/products/detail/fair-rite-products-corp/5961000601/8594131) : ⌀21mm, #61, €1.69\n",
    " * [Fair-rite 5961001821](https://www.digikey.be/en/products/detail/fair-rite-products-corp/5961001821/15930539) : ⌀23mm, #61, €1.42, ⌀23mm\n",
    " \n",
    "#### Using a #67-core\n",
    "Let's select a 67-core because it matches the required frequency range: [FT87-67](https://www.amidoncorp.com/ft-87-67/). \n",
    "\n",
    "160 windings is too much to wind on such a small FT-67-87 core.  No core has been bought for this frequency range.\n",
    "\n",
    " ### Calculations\n",
    " * [Miguel VK3CPU - RF Toroid Calculator v1.0](https://miguelvaca.github.io/vk3cpu/toroid.html)- : don't use the wire length calculator from this site as it yields much exxagerated lengths.\n",
    " * [Toroid Winding Calculator](http://www.calculatoredge.com/electronics/coilwinding.htm#toroid)"
   ]
  },
  {
   "cell_type": "code",
   "execution_count": 24,
   "id": "c27229be",
   "metadata": {
    "scrolled": true
   },
   "outputs": [
    {
     "name": "stdout",
     "output_type": "stream",
     "text": [
      "Required number of turns on primary winding: 6\n",
      "Required number of turns on secondary winding: 42\n",
      "The total number of turns will fit on the inductor.\n",
      "Primary coil wire length: 0.14m\n",
      "Secondary coil wire length: 0.99m\n",
      "Maximum flux density: 0.00642T\n",
      "Flux density OK.\n"
     ]
    }
   ],
   "source": [
    "d = 0.5e-3 # [m] wire diameter\n",
    "\n",
    "# Fair-Rite 5943001301 (#43 material)\n",
    "# Toroid\n",
    "Al = 500 # [nH/N²] Inductance factor\n",
    "Ae = 0.308e-4 # [m²] Effective cross-sectional area\n",
    "Bmax = 0.22 # [T], from [Fair-rite materials](https://www.fair-rite.com/materials/): Inductive Materials\n",
    "OD = 25.4e-3 # [m] outer diameter\n",
    "ID = 15.5e-3 # [m] inner diameter\n",
    "h = 6.35e-3 # [m] height\n",
    "\n",
    "# Epcos/TDK B62152A0001X001 (Siferrit K1 material)\n",
    "# Double aperture (aka binocular core)\n",
    "# Al = 330 # [nH/N²]\n",
    "# Ae = 49.7e-6 # [m²]\n",
    "\n",
    "# Fair-Rite 5961001821 (#61 material)\n",
    "# Toroid\n",
    "# Al = 75 # [nH/N²] Inductance factor\n",
    "# Ae = 0.262e-4 # [m²] Effective cross-sectional area\n",
    "# Bmax = 0.25 # [T], from [Fair-rite materials](https://www.fair-rite.com/materials/): Inductive Materials\n",
    "# OD = 23e-3 # [m] outer diameter\n",
    "# ID = 12.9e-3 # [m] inner diameter\n",
    "# h = 7.1e-3 # [m] height\n",
    "\n",
    "#Amidon FT-87-67 (#67 material)\n",
    "# Toroid\n",
    "#Al = 25 # [nH/N²] Inductance factor\n",
    "#Ae = 0.2612e-4 # [m²] Effective cross-sectional area\n",
    "#Bmax = 0.23 # [T], from [Fair-rite materials](https://www.fair-rite.com/materials/): Inductive Materials\n",
    "\n",
    "def calc_inductor_turns(Al, L):\n",
    "    '''\n",
    "    Calculate the required number of primary and secondary turns for the given inductance factor and inductance\n",
    "    value according to L = Al * N² (see also ARRL §5.7.3)\n",
    "    Al = Inductance factor in [nH/N²]\n",
    "    L = Inductance value in [H]\n",
    "    return = [number of turns for primary winding, number of turns for secondary winding]\n",
    "    ''' \n",
    "    Np = math.ceil(math.sqrt(Lp_min/(Al*1e-9)))\n",
    "    Ns = math.ceil(Np*turns_ratio)\n",
    "    return [Np, Ns]\n",
    "    \n",
    "def calc_toroid_max_turns(ID, d):\n",
    "    '''\n",
    "    Calculate the number of turns so that there's no overlap\n",
    "    Reference : [https://www.had2know.org/technology/calculate-toroidal-coil-inductor-wire.html]\n",
    "    ID = inner diameter of the core in [m]\n",
    "    d = diameter of the wire in [m]\n",
    "    '''\n",
    "    return math.ceil(math.pi/math.asin(d/(ID-d)))\n",
    "    \n",
    "def calc_toroid_wirelength(OD, ID, d, N):\n",
    "    '''\n",
    "    Calculate the needed wire length for winding a toroid.\n",
    "    Reference : Wire length, calculation from (How To Calculate Toroid Winding Length)[http://www.how2power.com/newsletters/1309/H2PowerToday1309_FocusOnMagnetics.pdf]\n",
    "    OD = outer diameter of the toroid in [m]\n",
    "    ID = inner diameter of the toroid in [m]\n",
    "    d = wire diameter in [m]\n",
    "    N = number of turns\n",
    "    '''\n",
    "    ri = ID/2 # inside radius\n",
    "    rcw = d/2 # insulated wire radius\n",
    "    w = (OD/2 - ID/2) # toroid width\n",
    "    L = ri / (2*rcw)\n",
    "    Nw = math.pi * math.pow(L,2)\n",
    "    M = L - math.sqrt((Nw-N)/math.pi)\n",
    "    return round(2 * math.pi * M * ((2*(h+w)+8*rcw*M)*(L-M/2)+4/3*rcw*(1-math.pow(M,2))),2)\n",
    "    \n",
    "def calc_max_flux_density(Ae, Pmax, Zin, fmin):\n",
    "    # Maximum coil voltage\n",
    "    Erms = math.sqrt( Pmax * Zin)\n",
    "    # Maximum flux density\n",
    "    return Erms / (4.44 * Ae * Np * fmin) # [T]\n",
    "\n",
    "[Np, Ns] = calc_inductor_turns(Al, Lp_min)\n",
    "print(\"Required number of turns on primary winding: \" + str(Np))\n",
    "print(\"Required number of turns on secondary winding: \" + str(Ns))\n",
    "if Np+Ns < calc_toroid_max_turns(ID, d):\n",
    "    print(\"The total number of turns will fit on the inductor.\")\n",
    "else:\n",
    "    print(\"The total number of turns doesn't fit on the inductor.\")\n",
    "\n",
    "print(\"Primary coil wire length: \" + str(calc_toroid_wirelength(OD, ID, d, Np))+\"m\")\n",
    "print(\"Secondary coil wire length: \" + str(calc_toroid_wirelength(OD, ID, d, Ns))+\"m\")\n",
    "\n",
    "B = calc_max_flux_density(Ae, Pmax, Zin, fmin)\n",
    "print('Maximum flux density: {:.3}T'.format(B))\n",
    "if B > Bmax:\n",
    "    print(\"Error : Exceeding maximum flux density.\")\n",
    "else:\n",
    "    print(\"Flux density OK.\")\n"
   ]
  },
  {
   "cell_type": "markdown",
   "id": "19d04857",
   "metadata": {},
   "source": [
    "### Winding the core using the \"traditional method\"\n",
    "\n",
    "> **NOTE**\n",
    ">\n",
    "> * Use enameled Cu-wire.\n",
    "> * Check if you can actually solder the wire before winding your coils.\n",
    "> * Use ⌀0.5mm or larger wire.  It keeps its shape more easily and is less likely to form kinks while winding.\n",
    "\n",
    "1. Cutting 1.2m meter of wire\n",
    "2. Folding 20cm back on itself and twist.\n",
    "3. Starting point is where twist ends.  Make 6 windings with the twisted wire.\n",
    "4. Go back to the starting point.  Make 15 windings with the single wire.\n",
    "5. Go through the middle and wind back 21 more windings.\n",
    "\n",
    "\n",
    "### Measurements\n",
    "If you use Youtube as a source for 49:1 unun measurements, you'll notice that:\n",
    "1. Most of them only measure S11 (sometimes without even loading the secondary coil).\n",
    "2. Some of them measure S21 in a back to back measurement : not ideal\n",
    "\n",
    "#### #43 material"
   ]
  },
  {
   "cell_type": "code",
   "execution_count": 25,
   "id": "1fd1ef9c",
   "metadata": {},
   "outputs": [
    {
     "name": "stdout",
     "output_type": "stream",
     "text": [
      "Al = 3.13e+02 nH/N²\n",
      "Cw = 1.31e-10 F\n",
      "Low frequency cut-off (fl) = 5.18e+05Hz\n",
      "High frequency cut-off due to winding capacitance = 2.43e+07Hz\n",
      "High frequency cut-off due to resonance of winding capacitance and leakage inductance = 1.23e+07Hz\n"
     ]
    }
   ],
   "source": [
    "def transformer_bandwidth_calculation(f, SRF, Np, Zs, Z_open, Z_closed):\n",
    "    '''\n",
    "    f [Hz] = measuring frequency (typ. 500kHz)\n",
    "    SRF [Hz] = measured self resonant frequency (= frequency where imaginary part of impedance is zero)\n",
    "    Np [] = number of primary turns\n",
    "    Zs [Ω] = source impedance (typ. 50)\n",
    "    Z_open [Ω] = Measured impedance at frequency f of primary coil, with secondary coil open\n",
    "    Z_closed [Ω] Measured impedance at frequency f of primary coil, with secondary coil short-circuited\n",
    "    '''\n",
    "    Ll = Z_closed.imag / (2*math.pi*f) # [H] Leakage inductance (with secondary transferred to primary)\n",
    "    Lm = Z_open.imag / (2*math.pi*f) - Ll # [H] magnetization inductance\n",
    "    Rw = Z_open.real # [Ω] winding resistance\n",
    "    Al = Lm / math.pow(Np,2) * 1e9\n",
    "    print('Al = {:.3} nH/N²'.format(Al))\n",
    "    Cw = 1 / (math.pow(2*math.pi*SRF,2)*Lm) # [F] winding capacitance\n",
    "    print('Cw = {:.3} F'.format(Cw))\n",
    "    fl = Zs / (2*math.pi*Lm) # Low frequency cut-off\n",
    "    print('Low frequency cut-off (fl) = {:.3}Hz'.format(fl))\n",
    "    fh_cw = 1 / (2*math.pi*Zs*Cw) # High-frequency cut-off due to winding capacitance alone\n",
    "    print('High frequency cut-off due to winding capacitance = {:.3}Hz'.format(fh_cw))\n",
    "    fh_cw_Ll = 1 / (2*math.pi*math.sqrt(Ll*Cw))\n",
    "    print('High frequency cut-off due to resonance of winding capacitance and leakage inductance = {:.3}Hz'.format(fh_cw_Ll))\n",
    "\n",
    "# Given parameters\n",
    "f = 500e3 # [Hz] Measuring frequency\n",
    "Z0 = 50 # [Ω] source impedance\n",
    "\n",
    "# Measured parameters with NanoVNA\n",
    "Z_open = 1.996 + 52.283j # [Ω] Measured impedance at frequency f of primary coil, with secondary coil open\n",
    "Z_closed = 0.017 + 4.028j # [Ω] Measured impedance at frequency f of primary coil, with secondary coil closed\n",
    "SRF = 3.55e6 # Hz] Open circuit self-resonant frequency\n",
    "R_max = 442 # [Ω] Open Circuit SRF R_max\n",
    "\n",
    "# Calculated parameters\n",
    "transformer_bandwidth_calculation(f, SRF, 7, Z0, Z_open, Z_closed)"
   ]
  },
  {
   "cell_type": "markdown",
   "id": "72c8ea85",
   "metadata": {},
   "source": [
    "* [Performance of 49:1 ferrite core transformers](https://squashpractice.com/2021/06/23/performance-of-491-ferrite-core-transformers/)\n",
    "* [KN5L EFHW Unun](https://www.kn5l.net/kn5lEfhwUnun/)\n",
    "\n",
    "<img src=\"./measurements/insertion_loss_.png\" alt=\"Insertion loss versus frequency for various transformer setups\" width=\"2000\"/>\n",
    "Due to wrong calibration, the frequency dependent calibration of mag(S21) is replaced by the theoretical value of 0.04.\n",
    "\n",
    "#### S21 Measurement using a NanoVNA\n",
    "[Calculate Loss from s11 and s21 – convenient online calculator](https://owenduffy.net/blog/?p=20312)\n",
    "\n",
    "The following load must be connected to port 2 so that port 1 sees a 50Ω load : \n",
    "$$\\mathrm{Z}_{sec} = \\mathrm{Z}_{prim} * \\mathrm{\\left( \\frac{\\mathrm{N}_{sec}}{\\mathrm{N}_{prim}}\\right)}_{}^{2}$$\n",
    "For our transformer:\n",
    "$$\\mathrm{Z}_{sec} = 50\\Omega *  \\mathrm{\\left( \\frac{28}{4}\\right)}_{}^{2} = 2450\\Omega$$\n",
    "So we connect a 2400Ω resistor in series with port 2 to our secondary winding.  As port2 has 50Ω internal impedance, we arrive at the desired 2450Ω.\n",
    "This 2400Ω resistor introduces loss.  This loss can be calculated as:\n",
    "$$Loss = -10*\\mathrm{log}_{10}\\left(\\frac{\\mathrm{Z}_{0}}{\\mathrm{Z}_{0} + Z} \\right)$$\n",
    "or in our case : \n",
    "$$Loss = -10*\\mathrm{log}_{10}\\left(\\frac{50\\Omega}{50\\Omega + 2400\\Omega} \\right) = 16.9dB$$"
   ]
  },
  {
   "cell_type": "code",
   "execution_count": 26,
   "id": "1d45d9e1",
   "metadata": {},
   "outputs": [
    {
     "name": "stdout",
     "output_type": "stream",
     "text": [
      "Loss = 16.9dB\n",
      "s21 = -28.0dB\n"
     ]
    }
   ],
   "source": [
    "Zr = 2400\n",
    "Z0 = 50\n",
    "loss = -10 * math.log10(Z0/(Zr+Z0))\n",
    "print('Loss = {:.3}dB'.format(loss))\n",
    "s21 = 20 * math.log10(2*Z0/(2*Z0+Zr))\n",
    "print('s21 = {:.3}dB'.format(s21))"
   ]
  },
  {
   "cell_type": "markdown",
   "id": "a257d09f",
   "metadata": {},
   "source": [
    "I'm using through hole resistors : 22KΩ in parallel with 2.7kΩ.  That should be 2.40kΩ.  The digital multimeter says 2.35kΩ.  \n",
    "The NanoVNA software shows a parallel impedance of 2450Ω || 2.79pF\n",
    "##### Port1 measurement"
   ]
  },
  {
   "cell_type": "code",
   "execution_count": 27,
   "id": "0d117027",
   "metadata": {},
   "outputs": [
    {
     "name": "stdout",
     "output_type": "stream",
     "text": [
      "Calculated Zr = 2.4e+03Ω\n"
     ]
    }
   ],
   "source": [
    "s11 = 0.95912 # Measured by NanoVNA\n",
    "Zr_calc = Z0 * (1+s11)/(1-s11)\n",
    "print('Calculated Zr = {:.3}Ω'.format(Zr_calc))"
   ]
  },
  {
   "cell_type": "markdown",
   "id": "b419fa28",
   "metadata": {},
   "source": [
    "So the measurement on port1 looks ok.\n",
    "\n",
    "##### Port2 measurement"
   ]
  },
  {
   "cell_type": "code",
   "execution_count": 28,
   "id": "47136039",
   "metadata": {},
   "outputs": [
    {
     "name": "stdout",
     "output_type": "stream",
     "text": [
      "s21 = -28.0dB\n"
     ]
    }
   ],
   "source": [
    "s21 = 0.04 # magnitude value, as measured by NanoVNA.\n",
    "s21dB = 20*math.log10(s21)\n",
    "print('s21 = {:.3}dB'.format(s21dB))"
   ]
  },
  {
   "cell_type": "markdown",
   "id": "183b612f",
   "metadata": {},
   "source": [
    "As expected after calibration.\n",
    "\n",
    "##### Method1\n",
    "We can add this fix 16.9dB offset the measured loss at every frequency.\n",
    "\n",
    "##### Method2\n",
    "We could connect the 2400Ω between port 1 and port2 and measure S11 and S21 over the frequency range.  We can calculate the loss from the measured S11 and S21.\n",
    "$$\\mathrm{s}_{11} = \\frac{\\mathrm{Z}_{in} - \\mathrm{Z}_{0}}{\\mathrm{Z}_{in} + \\mathrm{Z}_{0}} = \\frac{\\left( \\mathrm{Z}_{0} +\\mathrm{Z}_{r}\\right) - \\mathrm{Z}_{0}}{\\left(\\mathrm{Z}_{0}+\\mathrm{Z}_{r}\\right) + \\mathrm{Z}_{0}} = \\frac{50\\Omega+ 2400\\Omega - 50\\Omega}{50\\Omega+ 2400\\Omega + 50\\Omega} = \\frac{2400\\Omega}{2500\\Omega} = 0.96$$\n",
    "$$\\mathrm{s}_{21}=\\frac{2*\\mathrm{Z}_{0}}{2*\\mathrm{Z}_{0} + \\mathrm{Z}_{r}} = \\frac{2*50\\Omega}{2*50\\Omega+2400\\Omega} = 0.04$$\n",
    "$$Loss = 10*\\mathrm{log}_{10}^{}\\left(\\frac{1-\\mathrm{\\left| \\mathrm{s}_{11} \\right|}^{2}}{\\mathrm{\\left| \\mathrm{s}_{21} \\right|}^{2}}\\right) = 10*\\mathrm{log}_{10}^{}\\left(\\frac{1-\\mathrm{0.96 }^{2}}{\\mathrm{0.04}^{2}}\\right) = 16.9dB$$\n",
    "\n",
    "### Improved design\n",
    "[Engineering the EFHW 49:1 Transformer and Antenna](https://squashpractice.com/2021/07/20/engineering-the-efhw-491-transformer-and-antenna/)\n",
    "1. By stacking two toroids, we can get the same inductance with half the number of windings.  Less windings means less capacitive coupling."
   ]
  },
  {
   "cell_type": "code",
   "execution_count": 29,
   "id": "08faf2b1",
   "metadata": {},
   "outputs": [
    {
     "name": "stdout",
     "output_type": "stream",
     "text": [
      "Al = 8.68e+02 nH/N²\n",
      "Cw = 5.06e-11 F\n",
      "Low frequency cut-off (fl) = 5.73e+05Hz\n",
      "High frequency cut-off due to winding capacitance = 6.29e+07Hz\n",
      "High frequency cut-off due to resonance of winding capacitance and leakage inductance = 5.04e+07Hz\n"
     ]
    }
   ],
   "source": [
    "# Given parameters\n",
    "f = 500e3 # [Hz] Measuring frequency\n",
    "Zs = 50 # [Ω] source impedance\n",
    "\n",
    "# Measured parameters with NanoVNA\n",
    "Z_open =  1.206 + 44.270j # [Ω] Measured impedance at frequency f of primary coil, with secondary coil open\n",
    "Z_closed =  0.087 + 0.618j # [Ω] Measured impedance at frequency f of primary coil, with secondary coil closed\n",
    "SRF =  6.0e6 # [Hz] Open circuit self-resonant frequency\n",
    "R_max = 597.538 # [Ω] Open Circuit SRF R_max\n",
    "\n",
    "# Calculated parameters\n",
    "transformer_bandwidth_calculation(f, SRF, 4, Zs, Z_open, Z_closed)"
   ]
  },
  {
   "cell_type": "markdown",
   "id": "4eec8eff",
   "metadata": {},
   "source": [
    "The measurement results are shown in the same graph (yellow line).\n",
    "I was expecting better high frequency performance, as the calculated high frequency cut-off values were > 50 MHz.  The secondary winding is very sensitive to capacitive loading.  _Because of the turns ratio N, the secondary capacitance will appear N2 larger at the primary and will resonate with the primary magnetizing inductance. ([Gary Rondeau](https://squashpractice.com/2021/07/20/engineering-the-efhw-491-transformer-and-antenna/))_\n",
    "\n",
    "#### #61 material\n",
    "I didn't succeed in making a transformer that fulfilled the specs using this core.\n",
    "\n",
    "##### Primary winding inductance\n",
    "Suitable for 5-30MHz.  For 13 windings, the inductance at 3MHz is 13.9µH while it even rises to 23µH at 30MHz.  This behavior matches the µ'-curve of the material permeability versus frequency of the [#61 material datasheet](https://www.fair-rite.com/61-material-data-sheet/).\n",
    "\n",
    "##### Secondary winding inductance\n",
    "The secondary coil has a resonance frequency of around 3MHz.  On such a small core, the windings are very close to each other, resulting in a large capacitive coupling and a low self-resonant frequency.\n",
    "This core is too small for so many windings.\n",
    "\n",
    "## References\n",
    "* ARRL Handbook 2018, §5.7.3 Broadband Ferrite RF Transformers\n",
    "* Secrets of RF Circuit Design, Joseph J. Carr, §4. Winding your own coils\n",
    "* [Steve Dick, K1RF : The end-fed half-wave antenna](http://gnarc.org/wp-content/uploads/The-End-Fed-Half-Wave-Antenna.pdf)\n",
    "\n",
    "## Ideas for the future\n",
    "We could make a transformer, suitable for EFHW and dipole.  Three coils 1:4:5 coil ratio.\n",
    "* EFHW  = 1 : (4+5) = 1:9\n",
    "* Dipole = (1+4) : 5 = 5:5"
   ]
  },
  {
   "cell_type": "code",
   "execution_count": null,
   "id": "6f6da2a8",
   "metadata": {},
   "outputs": [],
   "source": []
  }
 ],
 "metadata": {
  "kernelspec": {
   "display_name": "Python 3 (ipykernel)",
   "language": "python",
   "name": "python3"
  },
  "language_info": {
   "codemirror_mode": {
    "name": "ipython",
    "version": 3
   },
   "file_extension": ".py",
   "mimetype": "text/x-python",
   "name": "python",
   "nbconvert_exporter": "python",
   "pygments_lexer": "ipython3",
   "version": "3.10.6"
  }
 },
 "nbformat": 4,
 "nbformat_minor": 5
}
